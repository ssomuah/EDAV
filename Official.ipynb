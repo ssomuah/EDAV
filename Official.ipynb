{
 "cells": [
  {
   "cell_type": "code",
   "execution_count": 2,
   "metadata": {
    "collapsed": true
   },
   "outputs": [],
   "source": [
    "from  urllib.request import Request,urlopen\n",
    "from bs4 import BeautifulSoup\n",
    "import numpy as np\n",
    "import pandas as pd\n",
    "from IPython.display import display\n",
    "from selenium import webdriver\n",
    "from selenium.webdriver.support.ui import WebDriverWait\n",
    "import os\n",
    "import time\n",
    "import re\n",
    "import random"
   ]
  },
  {
   "cell_type": "code",
   "execution_count": 3,
   "metadata": {
    "collapsed": false
   },
   "outputs": [],
   "source": [
    "base =\"https://www.premierleague.com/stats/top/clubs/{}?se={}\"\n",
    "stats= [\"wins\",\"losses\",\"goals\",\"total_yel_card\",\"total_red_card\",\"total_sub_on\",\"total_scoring_att\",\"ontarget_scoring_att\",\"hit_woodwork\",\"att_hd_goal\",\"att_pen_goal\",\"att_freekick_goal\",\"att_ibox_goal\",\"att_obox_goal\",\"goal_fastbreak\",\"total_offside\",\"clean_sheet\",\"goals_conceded\",\"saves\",\"outfielder_block\",\"interception\",\"total_tackle\",\"last_man_tackle\",\"total_clearance\",\"head_clearance\",\"offside_provoked\",\"own_goals\",\"penalty_conceded\",\"pen_goals_conceded\",\"fouls\",\"total_pass\",\"total_through_ball\",\"total_long_balls\",\"backward_pass\",\"total_cross\",\"corner_taken\"]\n",
    "season_map ={\"16\":\"2007\",\"42\":\"2015\",\"17\":\"2008\",\n",
    "             \"18\":\"2009\",\"19\":\"2010\",\"20\":\"2011\",\n",
    "            \"21\":\"2012\",\"22\":\"2013\",\"27\":\"2014\",\n",
    "            \"42\":\"2015\"}\n",
    "\n",
    "#season_map={\"16\":\"2007\"}\n",
    "#stats=[\"head_clearance\",\"total_tackle\",\"total_long_balls\",\"total_pass\",\"total_cross\",\"backward_pass\"]\n",
    "\n"
   ]
  },
  {
   "cell_type": "code",
   "execution_count": 63,
   "metadata": {
    "collapsed": false
   },
   "outputs": [],
   "source": [
    "def getFile(browser,url,stat,se):\n",
    "    season = season_map[se]\n",
    "    filename = stat+\"_\"+season+\".csv\"\n",
    "    file = os.path.join(\"data\",\"csv\",filename)\n",
    "    if os.path.exists(file):\n",
    "        return\n",
    "    browser.get(url)\n",
    "    time.sleep(random.randint(5,10))\n",
    "    table=browser.find_element_by_tag_name(\"table\")\n",
    "    #print (table.text)\n",
    "    f = open(file,'w')\n",
    "    text = table.text.split(\"\\n\")\n",
    "    new_text=[]\n",
    "    for line in text:\n",
    "        matches = re.match(\"(.*?) (.*) (.*)\",line)\n",
    "        bits =[matches.group(1),matches.group(2),matches.group(3).replace(\",\",\"%\")]\n",
    "        csv_line = \",\".join(bits)\n",
    "        new_text.append(csv_line)\n",
    "    f.write(\"\\n\".join(new_text))\n",
    "    f.close()\n",
    "    return "
   ]
  },
  {
   "cell_type": "code",
   "execution_count": 133,
   "metadata": {
    "collapsed": false
   },
   "outputs": [],
   "source": [
    "browser = webdriver.Chrome(executable_path=\"chromedriver.exe\")\n",
    "for s in season_map.keys():\n",
    "    for ss in stats:     \n",
    "        url = base.format(ss,s)\n",
    "        getFile(browser,url,ss,s)\n",
    "browser.close()\n",
    "    "
   ]
  },
  {
   "cell_type": "code",
   "execution_count": 98,
   "metadata": {
    "collapsed": false
   },
   "outputs": [],
   "source": [
    "#for each season grab the table\n",
    "def getTables():\n",
    "    basic=\"https://www.premierleague.com/tables?se={}\"\n",
    "    browser = webdriver.Chrome(executable_path=\"chromedriver.exe\")\n",
    "    for s in season_map.keys():\n",
    "        \n",
    "        season = season_map[s]\n",
    "        file = \"data/csv/table_\"+season+\".csv\"\n",
    "        new_url = basic.format(s)\n",
    "        browser.get(new_url)\n",
    "        time.sleep(5)\n",
    "        table = browser.find_element_by_tag_name(\"table\")\n",
    "        text = table.text.split(\"\\n\")\n",
    "        real_table = text[9:]\n",
    "        new_text=[]\n",
    "        new_text.append(\"Team,Played,Won,Drawn,Lost,GF,GA,GD,Points\")\n",
    "        for line in real_table:\n",
    "            if len(line)<3:\n",
    "                continue;\n",
    "            matches = re.match(\"(.*) (.*) (.*) (.*) (.*) (.*) (.*) (.*) (.*)\",line)\n",
    "            bits =[]\n",
    "            for i in range(1,10):\n",
    "                bits.append(matches.group(i))\n",
    "            csv_line = \",\".join(bits)\n",
    "            new_text.append(csv_line)\n",
    "        f = open(file,'w')\n",
    "        f.write(\"\\n\".join(new_text))\n",
    "        f.close()        \n",
    "    browser.close()\n",
    "    \n",
    "getTables()"
   ]
  },
  {
   "cell_type": "code",
   "execution_count": 11,
   "metadata": {
    "collapsed": false,
    "scrolled": false
   },
   "outputs": [],
   "source": [
    "#go through year by year and compile each set of stats for the year into a single file\n",
    "teams = dict()\n",
    "zz=[\"2008\"]\n",
    "xx=[\"goals\",\"wins\"]\n",
    "\n",
    "\n",
    "for year in season_map.values():\n",
    "    table =pd.read_csv(\"data/csv/table_\"+year+\".csv\")\n",
    "    table=table.replace(\"Bournemouth\",\"AFC Bournemouth\").sort_values(\"Team\")\n",
    "    table.index+=1\n",
    "    if os.path.exists(\"data/csv/who_scored_{}.csv\".format(year)):\n",
    "        who_scored = pd.read_csv(\"data/csv/who_scored_{}.csv\".format(year))\n",
    "    else:\n",
    "        who_scored =pd.DataFrame(columns=[\"possession\",\"passSuccess\",\"team\"])\n",
    "    who_scored = who_scored.replace(\"Bournemouth\",\"AFC Bournemouth\").sort_values(\"team\")\n",
    "    #display(who_scored)\n",
    "    #display(table)\n",
    "    final_frame= pd.DataFrame()\n",
    "    for stat in stats:\n",
    "        fname = stat+\"_\"+year+\".csv\"\n",
    "        file =  os.path.join(\"Data\",\"csv\",fname)\n",
    "        statty = pd.read_csv(file,thousands=\"%\").sort_values([\"Club\"]).reset_index(drop=True)\n",
    "        if(statty[\"Rank\"][0]==\"No\"):\n",
    "            continue\n",
    "        #print (stat)\n",
    "        #display(statty.head())\n",
    "        final_frame[\"Club\"]=statty[\"Club\"]\n",
    "        final_frame[stat]=statty[\"Stat\"]\n",
    "    final_frame[\"Draws\"]=38 -final_frame[\"wins\"]-final_frame[\"losses\"]\n",
    "    final_frame[\"Points\"]=3*final_frame[\"wins\"]+final_frame[\"Draws\"]\n",
    "    final_frame[\"Rank\"]= table.index\n",
    "    final_frame[\"Possession\"]= who_scored[\"possession\"]\n",
    "    final_frame[\"passSuccess\"]= who_scored[\"passSuccess\"]\n",
    "\n",
    "    #display(final_frame[[\"Club\",\"Rank\",\"wins\"]])\n",
    "    final_frame = final_frame.sort_values([\"Rank\"]).fillna(0)\n",
    "    final_frame.index = np.array(final_frame[\"Rank\"]-1)\n",
    "    #display(final_frame[[\"Club\",\"Rank\",\"wins\"]])\n",
    "    final_frame.to_csv(\"data/final/prem_\"+year+\".csv\")\n"
   ]
  },
  {
   "cell_type": "code",
   "execution_count": null,
   "metadata": {
    "collapsed": true
   },
   "outputs": [],
   "source": []
  }
 ],
 "metadata": {
  "anaconda-cloud": {},
  "kernelspec": {
   "display_name": "Python [conda env:scraping]",
   "language": "python",
   "name": "conda-env-scraping-py"
  },
  "language_info": {
   "codemirror_mode": {
    "name": "ipython",
    "version": 3
   },
   "file_extension": ".py",
   "mimetype": "text/x-python",
   "name": "python",
   "nbconvert_exporter": "python",
   "pygments_lexer": "ipython3",
   "version": "3.6.1"
  }
 },
 "nbformat": 4,
 "nbformat_minor": 1
}
