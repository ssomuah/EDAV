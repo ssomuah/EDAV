{
 "cells": [
  {
   "cell_type": "code",
   "execution_count": 5,
   "metadata": {
    "collapsed": true
   },
   "outputs": [],
   "source": [
    "from  urllib.request import Request,urlopen\n",
    "from bs4 import BeautifulSoup\n",
    "import numpy as np\n",
    "import pandas as pd\n",
    "from IPython.display import display\n",
    "import re"
   ]
  },
  {
   "cell_type": "code",
   "execution_count": null,
   "metadata": {
    "collapsed": true
   },
   "outputs": [],
   "source": [
    "# accept:text/html,application/xhtml+xml,application/xml;q=0.9,image/webp,*/*;q=0.8\n",
    "# accept-encoding:gzip, deflate, sdch, br\n",
    "# accept-language:en-US,en;q=0.8\n",
    "# cache-control:no-cache\n",
    "# pragma:no-cache\n",
    "# referer:https://www.whoscored.com/Regions/252/Tournaments/2/Seasons/1849/Stages/3115/TeamStatistics/England-Premier-League-2009-2010\n",
    "# upgrade-insecure-requests:1\n",
    "# user-agent:Mozilla/5.0 (Windows NT 10.0; Win64; x64) AppleWebKit/537.36 (KHTML, like Gecko) Chrome/57.0.2987.133 Safari/537.36"
   ]
  },
  {
   "cell_type": "code",
   "execution_count": 12,
   "metadata": {
    "collapsed": false
   },
   "outputs": [],
   "source": [
    "link =\"https://www.whoscored.com/Regions/252/Tournaments/2/Seasons/1849/Stages/3115/TeamStatistics/England-Premier-League-2009-2010\"\n",
    "\n",
    "request = Request(link)\n",
    "request.add_header('User-Agent','Mozilla/5.0 (Windows NT 10.0; Win64; x64) AppleWebKit/537.36 (KHTML, like Gecko)Chrome/56.0.2924.87 Safari/537.36')\n",
    "request.add_header('accept-encoding','accept:text/html,application/xhtml+xml,application/xml;q=0.9,image/webp,*/*;q=0.8')\n",
    "request.add_header('accept-language','en-US,en;q=0.8')\n",
    "request.add_header('referer','https://www.whoscored.com/Regions/252/Tournaments/2/Seasons/1849/Stages/3115/TeamStatistics/England-Premier-League-2009-2010')\n",
    "try:\n",
    "    response = urlopen(request)\n",
    "    webContent = response.read()\n",
    "    f = open(\"testing.html\", 'wb')\n",
    "    f.write(webContent)\n",
    "    f.close\n",
    "except urllib.error.URLError as e:\n",
    "    print (e)\n",
    "    print (e.headers)\n",
    " \n"
   ]
  },
  {
   "cell_type": "code",
   "execution_count": 23,
   "metadata": {
    "collapsed": false
   },
   "outputs": [],
   "source": [
    "def parseYear(year,fname):\n",
    "    #pull out possession,pass success\n",
    "    handle = open(fname,'r',encoding=\"latin-1\")\n",
    "    data = handle.read()\n",
    "    minestrone = BeautifulSoup(data,\"html.parser\")\n",
    "    divs = minestrone.find_all(\"div\",{\"class\":\"statistics-table-tab\"})\n",
    "    divs2 = minestrone.find_all(\"div\",{\"id\":re.compile(\"stage-[^-]*$\")})\n",
    "    #print(divs[0][\"id\"])\n",
    "    tbody=divs[0].find(\"tbody\")\n",
    "    #print (tbody[\"id\"])\n",
    "    trs = tbody.find_all(\"tr\")\n",
    "    header_0 =[\"team\",\"spg\",\"yellows\",\"reds\",\"possession\",\"passSuccess\",\"aerialsWon\"]\n",
    "    header_0.append(\"foulsPerGame\")\n",
    "    d0=[]\n",
    "    d0.append(\",\".join(header_0))\n",
    "    secondtrs = divs[2].find(\"tbody\").find_all(\"tr\")\n",
    "    for i,tr in enumerate(trs):\n",
    "        row_data=[]\n",
    "        tds = tr.find_all(\"td\")\n",
    "        team = tds[1].string\n",
    "        spg = tds[2].string\n",
    "        spans = tds[3].find_all(\"span\")\n",
    "        yel = spans[0].string\n",
    "        red = spans[1].string\n",
    "        posession = tds[4].string\n",
    "        passSuccess = tds[5].string\n",
    "        aerialsWon = tds[6].string\n",
    "        row_data= [team,spg,yel,red,posession,passSuccess,aerialsWon]\n",
    "        row_data.append(secondtrs[i].find_all(\"td\")[5].text)\n",
    "        d0.append(\",\".join(row_data))\n",
    "\n",
    "    out_file = \"data/csv/who_scored_{}.csv\".format(year)\n",
    "    f = open(out_file,\"w\")\n",
    "    f.write(\"\\n\".join(d0))\n",
    "    #header_1=[\"shotsConceded\",\"tackles\",\"interceptions\",\"fouls\"]\n",
    "\n",
    "    \n",
    "def parseSummary(div):\n",
    "    pass;\n",
    "    \n",
    "runit()"
   ]
  },
  {
   "cell_type": "code",
   "execution_count": 22,
   "metadata": {
    "collapsed": false
   },
   "outputs": [],
   "source": [
    "#for each file \n",
    "\n",
    "def runit():   \n",
    "    base_file = \"Data\\html\\Premier League Team Statistics _ WhoScored{}.com.html\"\n",
    "    years=[2009,2010,2011,2012,2013,2014,2015]\n",
    "    for year in years:\n",
    "        fname = base_file.format(year)\n",
    "        parseYear(year,fname)"
   ]
  }
 ],
 "metadata": {
  "anaconda-cloud": {},
  "kernelspec": {
   "display_name": "Python [conda env:scraping]",
   "language": "python",
   "name": "conda-env-scraping-py"
  },
  "language_info": {
   "codemirror_mode": {
    "name": "ipython",
    "version": 3
   },
   "file_extension": ".py",
   "mimetype": "text/x-python",
   "name": "python",
   "nbconvert_exporter": "python",
   "pygments_lexer": "ipython3",
   "version": "3.6.1"
  }
 },
 "nbformat": 4,
 "nbformat_minor": 1
}
